{
 "cells": [
  {
   "cell_type": "code",
   "execution_count": 1,
   "metadata": {},
   "outputs": [
    {
     "name": "stdout",
     "output_type": "stream",
     "text": [
      "even\n"
     ]
    }
   ],
   "source": [
    "# 1.WAPT check the given number is even or odd,by creating function with arguments.\n",
    "\n",
    "def evenOrOdd(n):\n",
    "    if n%2==0:\n",
    "        print('even')\n",
    "    else:\n",
    "        print('odd')\n",
    "evenOrOdd(12)"
   ]
  },
  {
   "cell_type": "code",
   "execution_count": 16,
   "metadata": {},
   "outputs": [
    {
     "name": "stdout",
     "output_type": "stream",
     "text": [
      "1 2 3 4 5 6 7 8 9 153 370 371 407 "
     ]
    }
   ],
   "source": [
    "# 2.WAPTP all the armstrong numbers from 1 to 1000 by creating functions with arguments.\n",
    "\n",
    "def armstrong(n1,n2):\n",
    "    \n",
    "    for i in range(n1,n2):\n",
    "        sum=0\n",
    "        count=0\n",
    "        j=i\n",
    "        j2=i\n",
    "        while i>0:\n",
    "            digit=i%10\n",
    "            count+=1\n",
    "            i//=10\n",
    "       \n",
    "        while j>0:\n",
    "            digit=j%10\n",
    "            sum+=(digit**count)\n",
    "            j//=10\n",
    "        if sum==j2:\n",
    "            print(j2,end=' ')\n",
    "armstrong(1,1000)\n"
   ]
  }
 ],
 "metadata": {
  "kernelspec": {
   "display_name": "Python 3",
   "language": "python",
   "name": "python3"
  },
  "language_info": {
   "codemirror_mode": {
    "name": "ipython",
    "version": 3
   },
   "file_extension": ".py",
   "mimetype": "text/x-python",
   "name": "python",
   "nbconvert_exporter": "python",
   "pygments_lexer": "ipython3",
   "version": "3.11.4"
  }
 },
 "nbformat": 4,
 "nbformat_minor": 2
}
