{
 "cells": [
  {
   "cell_type": "code",
   "execution_count": 4,
   "metadata": {},
   "outputs": [
    {
     "name": "stdout",
     "output_type": "stream",
     "text": [
      "mercedes\n",
      "White\n",
      "<bound method Tyre.get_car of <__main__.Tyre object at 0x000001EF0461BD90>>\n",
      "Red\n",
      "2126082126480\n",
      "2126082126480\n"
     ]
    }
   ],
   "source": [
    "class car:\n",
    "    def __init__(self,cname=None,cno=None,ccolor=None):\n",
    "        self._cname=cname\n",
    "        self._cno=cno\n",
    "        self._ccolor=ccolor\n",
    "    def set_Cname(self,newName):\n",
    "        self._cname=newName\n",
    "    def get_Cname(self):\n",
    "        return self._cname\n",
    "    def set_Cno(self,newCno):\n",
    "        self._cno=newCno\n",
    "    def get_Cno(self):\n",
    "        return self._cno\n",
    "    def set_Ccolor(self,newCcolor):\n",
    "        self._ccolor=newCcolor\n",
    "    def get_Ccolor(self):\n",
    "        return self._ccolor\n",
    "class Tyre:\n",
    "    def __init__(self,brand,grip,car=None):\n",
    "        self._brand=brand\n",
    "        self._grip=grip\n",
    "        self._car=car\n",
    "    def set_Tbrand(self,newBrand):\n",
    "        self._brand=newBrand\n",
    "    def get_Tbrand(self):\n",
    "        return self._brand\n",
    "    def set_Tgrip(self,newGrip):\n",
    "        self._brand=newGrip\n",
    "    def get_Tgrip(self):\n",
    "        return self._grip\n",
    "    def get_car(self):\n",
    "        return self._car\n",
    "c1=car('mercedes','AP04 1717','White')\n",
    "t1=Tyre('CEAT','High grip',c1)\n",
    "print(t1.get_car().get_Cname())\n",
    "print(t1.get_car().get_Ccolor())\n",
    "print(t1.get_car)\n",
    "c2=t1.get_car()\n",
    "c2.set_Ccolor('Red')\n",
    "print(t1.get_car().get_Ccolor())\n",
    "print(id(c1))\n",
    "print(id(c2))"
   ]
  }
 ],
 "metadata": {
  "kernelspec": {
   "display_name": "Python 3",
   "language": "python",
   "name": "python3"
  },
  "language_info": {
   "codemirror_mode": {
    "name": "ipython",
    "version": 3
   },
   "file_extension": ".py",
   "mimetype": "text/x-python",
   "name": "python",
   "nbconvert_exporter": "python",
   "pygments_lexer": "ipython3",
   "version": "3.11.4"
  }
 },
 "nbformat": 4,
 "nbformat_minor": 2
}
