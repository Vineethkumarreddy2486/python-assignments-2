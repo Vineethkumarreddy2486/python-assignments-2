{
 "cells": [
  {
   "cell_type": "code",
   "execution_count": 4,
   "metadata": {},
   "outputs": [
    {
     "name": "stdout",
     "output_type": "stream",
     "text": [
      "{'__module__': '__main__', 'schoolname': None, 'changeSchoolName': <classmethod(<function Student.changeSchoolName at 0x000001B94FD0D1C0>)>, '__dict__': <attribute '__dict__' of 'Student' objects>, '__weakref__': <attribute '__weakref__' of 'Student' objects>, '__doc__': None}\n",
      "{'__module__': '__main__', 'schoolname': None, 'changeSchoolName': 'ABC', '__dict__': <attribute '__dict__' of 'Student' objects>, '__weakref__': <attribute '__weakref__' of 'Student' objects>, '__doc__': None}\n"
     ]
    }
   ],
   "source": [
    "# 1.\n",
    "class Student:\n",
    "    schoolname=None\n",
    "    @classmethod\n",
    "    def changeSchoolName(cls,newname):\n",
    "        cls.changeSchoolName=newname\n",
    "print(Student.__dict__)\n",
    "Student.changeSchoolName('ABC')\n",
    "print(Student.__dict__)"
   ]
  },
  {
   "cell_type": "code",
   "execution_count": 7,
   "metadata": {},
   "outputs": [
    {
     "name": "stdout",
     "output_type": "stream",
     "text": [
      "{'__module__': '__main__', 'schoolname': 'PHS', 'rollno': 26, 'changeSchoolName': <classmethod(<function Student.changeSchoolName at 0x000001B95018D120>)>, 'changerollno': <classmethod(<function Student.changerollno at 0x000001B95018D1C0>)>, '__dict__': <attribute '__dict__' of 'Student' objects>, '__weakref__': <attribute '__weakref__' of 'Student' objects>, '__doc__': None}\n",
      "{'__module__': '__main__', 'schoolname': 'PHS', 'rollno': 26, 'changeSchoolName': 'surya', 'changerollno': 56, '__dict__': <attribute '__dict__' of 'Student' objects>, '__weakref__': <attribute '__weakref__' of 'Student' objects>, '__doc__': None}\n"
     ]
    }
   ],
   "source": [
    "#2.\n",
    "class Student():\n",
    "    schoolname='PHS'\n",
    "    rollno=26\n",
    "    @classmethod\n",
    "    def changeSchoolName(cls,newname):\n",
    "        cls.changeSchoolName=newname\n",
    "    @classmethod\n",
    "    def changerollno(cls,newname):\n",
    "        cls.changerollno=newname\n",
    "print(Student.__dict__)\n",
    "Student.changeSchoolName('surya')\n",
    "Student.changerollno(56)\n",
    "print(Student.__dict__)\n"
   ]
  },
  {
   "cell_type": "code",
   "execution_count": 3,
   "metadata": {},
   "outputs": [
    {
     "name": "stdout",
     "output_type": "stream",
     "text": [
      "      *       \n",
      "    * * *     \n",
      "  * * * * *   \n",
      "* * * * * * * \n"
     ]
    }
   ],
   "source": [
    "i=1\n",
    "while i<=4:\n",
    "    j=1\n",
    "    while j<=7:\n",
    "        if (i==4 or j==4)or(j==2 and(i!=1 and i!=2))or(j==3 and i!=1)or(j==5 and i!=1)or((j==6 and(i!=1 and i!=2))):\n",
    "            print('*',end=\" \")\n",
    "        else:\n",
    "            print(\" \",end=\" \")\n",
    "        j+=1\n",
    "    print()\n",
    "    i+=1"
   ]
  },
  {
   "cell_type": "code",
   "execution_count": 5,
   "metadata": {},
   "outputs": [
    {
     "name": "stdout",
     "output_type": "stream",
     "text": [
      "Hi\n",
      "How\n",
      "Are\n",
      "You\n"
     ]
    }
   ],
   "source": [
    "str='Hi How Are You'\n",
    "res=''\n",
    "for i in str:\n",
    "    if i!=\" \":\n",
    "        res+=i\n",
    "    else:\n",
    "        print(res)\n",
    "        res=''\n",
    "if res:\n",
    "    print(res)\n",
    "\n",
    "    \n"
   ]
  },
  {
   "cell_type": "code",
   "execution_count": 20,
   "metadata": {},
   "outputs": [
    {
     "name": "stdout",
     "output_type": "stream",
     "text": [
      "vineeth\n",
      "2113911427824\n",
      "rani\n",
      "rani\n"
     ]
    }
   ],
   "source": [
    "class Student:\n",
    "    name='vineeth'\n",
    "    age=22\n",
    "s1=Student()\n",
    "s2=Student()\n",
    "print(s1.name)\n",
    "print(id(s1.name))\n",
    "s1.name='raju'\n",
    "print(s1.name,Student.name)\n",
    "Student.name=\"rani\"\n",
    "print(s1.name)\n",
    "print(s2.name)\n"
   ]
  },
  {
   "cell_type": "code",
   "execution_count": 17,
   "metadata": {},
   "outputs": [
    {
     "name": "stdout",
     "output_type": "stream",
     "text": [
      "dog male\n",
      "dog\n",
      "cat\n"
     ]
    }
   ],
   "source": [
    "class Animal:\n",
    "    def __init__ (self,name,gender):\n",
    "        self.name=name\n",
    "        self.gender=gender\n",
    "a1=Animal('dog','male')\n",
    "print(a1.name,a1.gender)\n",
    "Animal.name='cat'\n",
    "print(a1.name)\n",
    "print(Animal.name)\n"
   ]
  },
  {
   "cell_type": "code",
   "execution_count": 18,
   "metadata": {},
   "outputs": [
    {
     "name": "stdout",
     "output_type": "stream",
     "text": [
      "{'__module__': '__main__', '__dict__': <attribute '__dict__' of 'Student' objects>, '__weakref__': <attribute '__weakref__' of 'Student' objects>, '__doc__': None}\n",
      "{'__module__': '__main__', '__dict__': <attribute '__dict__' of 'Student' objects>, '__weakref__': <attribute '__weakref__' of 'Student' objects>, '__doc__': None, 'traniner': 'kashinath'}\n"
     ]
    }
   ],
   "source": [
    "class Student:\n",
    "    pass\n",
    "print(Student.__dict__)\n",
    "Student.traniner='kashinath'\n",
    "print(Student.__dict__)"
   ]
  },
  {
   "cell_type": "code",
   "execution_count": 1,
   "metadata": {},
   "outputs": [
    {
     "name": "stdout",
     "output_type": "stream",
     "text": [
      "ECE_B.tech_24_20781A0431_@student.onlinedegreeSVCET\n"
     ]
    }
   ],
   "source": [
    "# create an email id from given data\n",
    "\n",
    "class Mail:\n",
    "    def __init__(self,branch,degree,year,roll,institute):\n",
    "        self.branch=branch\n",
    "        self.degree=degree\n",
    "        self.year=year\n",
    "        self.roll=roll\n",
    "        self.institute=institute\n",
    "    def generateMail(self):\n",
    "        print((self.branch)+\"_\"+(self.degree)+'_'+str((self.year%100))+'_'+(self.roll)+'_'+'@student.onlinedegree'+(self.institute))\n",
    "m1=Mail('ECE','B.tech',2024,'20781A0431','SVCET')\n",
    "m1.generateMail()\n"
   ]
  },
  {
   "cell_type": "code",
   "execution_count": 51,
   "metadata": {},
   "outputs": [
    {
     "name": "stdout",
     "output_type": "stream",
     "text": [
      "100.0\n",
      "600.0\n"
     ]
    }
   ],
   "source": [
    "# Area of Triangle\n",
    "\n",
    "class Triangle:\n",
    "    def __init__(self,base,height):\n",
    "        self.base=base\n",
    "        self.height=height\n",
    "    def areaOfTriangle(self):\n",
    "        print(0.5*self.base*self.height)\n",
    "t1=Triangle(10,20)\n",
    "t2=Triangle(30,40)\n",
    "\n",
    "t1.areaOfTriangle()\n",
    "t2.areaOfTriangle()\n",
    "        "
   ]
  },
  {
   "cell_type": "code",
   "execution_count": 52,
   "metadata": {},
   "outputs": [
    {
     "name": "stdout",
     "output_type": "stream",
     "text": [
      "200\n",
      "1200\n"
     ]
    }
   ],
   "source": [
    "# Area of Rectangle\n",
    "\n",
    "class Rectangle:\n",
    "    def __init__(self,length,breadth):\n",
    "        self.length=length\n",
    "        self.breadth=breadth\n",
    "    def area(self):\n",
    "        print(self.length*self.breadth)\n",
    "r1=Rectangle(10,20)\n",
    "r2=Rectangle(30,40)\n",
    "\n",
    "r1.area()\n",
    "r2.area()\n",
    "\n"
   ]
  },
  {
   "cell_type": "code",
   "execution_count": 57,
   "metadata": {},
   "outputs": [
    {
     "name": "stdout",
     "output_type": "stream",
     "text": [
      "49.298\n",
      "49.38775510204081\n"
     ]
    }
   ],
   "source": [
    "# Area of circle\n",
    "\n",
    "class Circle:\n",
    "    def __init__(self,radius,pie):\n",
    "        self.radius=radius\n",
    "        self.pie=pie\n",
    "    def areaOfCircle(self):\n",
    "        print(self.pie*(self.radius)**2)\n",
    "c1=Circle(3.14,5)\n",
    "c2=Circle(22/7,5)\n",
    "\n",
    "c1.areaOfCircle()\n",
    "c2.areaOfCircle()\n",
    "\n",
    "\n",
    "\n",
    "\n",
    "    \n"
   ]
  },
  {
   "cell_type": "code",
   "execution_count": 28,
   "metadata": {},
   "outputs": [
    {
     "name": "stdout",
     "output_type": "stream",
     "text": [
      "vineeth\n",
      "30\n",
      "3000\n",
      "12367891\n",
      "cogn789130\n",
      "kumar\n",
      "28\n",
      "30000\n",
      "98765219\n",
      "cogn521928\n",
      "reddy\n",
      "38\n",
      "50000\n",
      "6783451238\n",
      "cogn123838\n",
      "venkata\n",
      "40\n",
      "45000\n",
      "96543212\n",
      "cogn321240\n",
      "128000\n"
     ]
    }
   ],
   "source": [
    "class Employee:\n",
    "    companyName='name'\n",
    "    loc='loc'\n",
    "    def __init__(self,name,age,salary,phonenumber):\n",
    "        self.name=name\n",
    "        self.age=age\n",
    "        self.salary=salary\n",
    "        self.phonenumber=phonenumber\n",
    "    def employee_id(self):\n",
    "        self.empid=self.companyName[0:4]+str(self.phonenumber%10000)+str(self.age)\n",
    "    def display_details(self):\n",
    "        print(self.name)\n",
    "        print(self.age)\n",
    "        print(self.salary)\n",
    "        print(self.phonenumber)\n",
    "        print(self.empid)\n",
    "    def getSalary(self):\n",
    "        return self.salary\n",
    "Employee.companyName='cognizent'\n",
    "Employee.loc='Banglore'\n",
    "e1=Employee('vineeth',30,3000,12367891)\n",
    "e2=Employee('kumar',28,30000,98765219)    \n",
    "e3=Employee('reddy',38,50000,6783451238)\n",
    "e4=Employee('venkata',40,45000,96543212)\n",
    "e1.employee_id()\n",
    "e2.employee_id()\n",
    "e3.employee_id()\n",
    "e4.employee_id()\n",
    "e1.display_details()\n",
    "e2.display_details()\n",
    "e3.display_details()\n",
    "e4.display_details()\n",
    "sum=e1.getSalary()+e2.getSalary()+e3.getSalary()+e4.getSalary()\n",
    "print(sum)\n",
    "    "
   ]
  },
  {
   "cell_type": "code",
   "execution_count": 4,
   "metadata": {},
   "outputs": [
    {
     "name": "stdout",
     "output_type": "stream",
     "text": [
      "62.800000000000004\n",
      "125.71428571428571\n"
     ]
    }
   ],
   "source": [
    "# circumference of the circle\n",
    "\n",
    "class Circumference:\n",
    "    def __init__(self,radius,pie):\n",
    "        self.radius=radius\n",
    "        self.pie=pie\n",
    "    def circlecircumference(self):\n",
    "        print(2*self.pie*self.radius)\n",
    "c1=Circumference(10,3.14)\n",
    "c2=Circumference(20,22/7)\n",
    "c1.circlecircumference()\n",
    "c2.circlecircumference()"
   ]
  },
  {
   "cell_type": "code",
   "execution_count": 9,
   "metadata": {},
   "outputs": [
    {
     "name": "stdout",
     "output_type": "stream",
     "text": [
      "vineeth\n",
      "2024\n",
      "ECE\n",
      "6305887592\n",
      "The student id number is: vine2024ECE7592\n"
     ]
    }
   ],
   "source": [
    "# generate student id\n",
    "\n",
    "class Identity:\n",
    "    def __init__(self,name,year,branch,mbl):\n",
    "        self.name=name\n",
    "        self.year=year\n",
    "        self.branch=branch\n",
    "        self.mbl=mbl\n",
    "    def generate_id(self):\n",
    "        self.id=self.name[0:4]+self.year+self.branch+str(self.mbl%10000)\n",
    "        print('The student id number is:',self.id)\n",
    "    def display_info(self):\n",
    "        print(self.name)\n",
    "        print(self.year)\n",
    "        print(self.branch)\n",
    "        print(self.mbl)\n",
    "i1=Identity('vineeth','2024','ECE',6305887592)\n",
    "i1.display_info()\n",
    "i1.generate_id()"
   ]
  },
  {
   "cell_type": "code",
   "execution_count": 11,
   "metadata": {},
   "outputs": [
    {
     "name": "stdout",
     "output_type": "stream",
     "text": [
      "60\n",
      "100\n"
     ]
    }
   ],
   "source": [
    "# perimeter of the rectangle\n",
    "\n",
    "class Circumference:\n",
    "    def __init__(self,len,bre):\n",
    "        self.len=len\n",
    "        self.bre=bre\n",
    "    def circlecircumference(self):\n",
    "        print(2*(self.len+self.bre))\n",
    "c1=Circumference(10,20)\n",
    "c2=Circumference(20,30)\n",
    "c1.circlecircumference()\n",
    "c2.circlecircumference()"
   ]
  },
  {
   "cell_type": "code",
   "execution_count": 13,
   "metadata": {},
   "outputs": [
    {
     "name": "stdout",
     "output_type": "stream",
     "text": [
      "231 chicken 500 noveg\n",
      "321 pasta 900 veg\n",
      "Margherita Pizza->veg\n"
     ]
    }
   ],
   "source": [
    "\n",
    "class MenuItem:\n",
    "    def __init__(self, item_id, name, price, category):\n",
    "        self.item_id = item_id\n",
    "        self.name = name\n",
    "        self.price = price\n",
    "        self.category = category\n",
    "    def display(self):\n",
    "        print(self.item_id,self.name ,self.price,self.category)\n",
    "\n",
    "    def is_vegetarian(item_name):\n",
    "        vegetarian_items = [\"Salad\", \"Vegetable Soup\", \"Margherita Pizza\"]\n",
    "        if item_name in vegetarian_items:\n",
    "            print(item_name,\"veg\",sep=\"->\")\n",
    "        else:\n",
    "            print(\"non veg\")\n",
    "m1=MenuItem(231,\"chicken\",500,\"noveg\")\n",
    "m2=MenuItem(321,\"pasta\",900,\"veg\")\n",
    "m1.display()\n",
    "m2.display()\n",
    "MenuItem.is_vegetarian(\"Margherita Pizza\")"
   ]
  },
  {
   "cell_type": "code",
   "execution_count": 19,
   "metadata": {},
   "outputs": [
    {
     "name": "stdout",
     "output_type": "stream",
     "text": [
      "SBI\n",
      "SBI\n"
     ]
    }
   ],
   "source": [
    "# bank\n",
    "\n",
    "class Bank:\n",
    "    bankname='HDFC'\n",
    "    bankloc='bangkore'\n",
    "    @classmethod\n",
    "    def changebankName(cls,newName):\n",
    "        cls.bankname=newName\n",
    "    @classmethod\n",
    "    def changebankloc(cls,newLoc):\n",
    "        cls.bankloc=newLoc\n",
    "b1=Bank()\n",
    "b2=Bank()\n",
    "Bank.bankname='SBI'\n",
    "print(b1.bankname)\n",
    "print(b2.bankname)\n",
    "\n"
   ]
  },
  {
   "cell_type": "code",
   "execution_count": 21,
   "metadata": {},
   "outputs": [
    {
     "name": "stdout",
     "output_type": "stream",
     "text": [
      "SBI\n",
      "bang\n"
     ]
    }
   ],
   "source": [
    "#create a class with 2 class variables and 2 methods to modify class variables \n",
    "class Bank:\n",
    "    name='hdfc'\n",
    "    loc='hyd'\n",
    "    @classmethod\n",
    "    def changename(cls,newname):\n",
    "        cls.name=newname\n",
    "    @classmethod\n",
    "    def changeloc(cls,newloc):\n",
    "        cls.loc=newloc\n",
    "    @classmethod\n",
    "    def display(cls):\n",
    "        print(cls.name)\n",
    "        print(cls.loc)\n",
    "Bank.changename('SBI')\n",
    "Bank.changeloc('bang')\n",
    "Bank.display()"
   ]
  }
 ],
 "metadata": {
  "kernelspec": {
   "display_name": "Python 3",
   "language": "python",
   "name": "python3"
  },
  "language_info": {
   "codemirror_mode": {
    "name": "ipython",
    "version": 3
   },
   "file_extension": ".py",
   "mimetype": "text/x-python",
   "name": "python",
   "nbconvert_exporter": "python",
   "pygments_lexer": "ipython3",
   "version": "3.11.4"
  }
 },
 "nbformat": 4,
 "nbformat_minor": 2
}
