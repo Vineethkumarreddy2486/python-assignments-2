{
 "cells": [
  {
   "cell_type": "code",
   "execution_count": null,
   "metadata": {},
   "outputs": [],
   "source": [
    "#**\\______________NUMBER PROGRAMMING_______________/**#\n",
    "\n",
    "# The process of performing the task with respective to the each digit of the given number is called \n",
    "# number programming\n",
    "# It can be done from right to left direction of the given number\n",
    "# Get the last digit by using n%10\n",
    "# Remove the last digit by using n//10"
   ]
  },
  {
   "cell_type": "code",
   "execution_count": 3,
   "metadata": {},
   "outputs": [
    {
     "name": "stdout",
     "output_type": "stream",
     "text": [
      "0 9 8 7 6 5 4 3 2 1 3 2 1 "
     ]
    }
   ],
   "source": [
    "# EXAMPLE\n",
    "\n",
    "n=1231234567890\n",
    "while n>0:\n",
    "    print(n%10,end=' ')\n",
    "    n=n//10"
   ]
  },
  {
   "cell_type": "code",
   "execution_count": 10,
   "metadata": {},
   "outputs": [
    {
     "name": "stdout",
     "output_type": "stream",
     "text": [
      "123456789\n",
      "the sum of the given number is: 45\n"
     ]
    }
   ],
   "source": [
    "# 1.WAPTP the sum of the digits in the given number\n",
    "\n",
    "n=int(input())\n",
    "print(n)\n",
    "sum=0\n",
    "while n>0: \n",
    "    digit=n%10\n",
    "    n=n//10\n",
    "    sum+=digit\n",
    "print('the sum of the given number is:',sum)"
   ]
  },
  {
   "cell_type": "code",
   "execution_count": 16,
   "metadata": {},
   "outputs": [
    {
     "name": "stdout",
     "output_type": "stream",
     "text": [
      "given number is: 4321\n",
      "the product of the given number is: 24\n"
     ]
    }
   ],
   "source": [
    "# 2.WAPTP the product of the digits in the given number\n",
    "\n",
    "n=int(input())\n",
    "print('given number is:',n)\n",
    "product=1\n",
    "while n>0:\n",
    "    digit=n%10\n",
    "    n=n//10\n",
    "    product*=digit\n",
    "print('the product of the given number is:',product)"
   ]
  },
  {
   "cell_type": "code",
   "execution_count": 2,
   "metadata": {},
   "outputs": [
    {
     "name": "stdout",
     "output_type": "stream",
     "text": [
      "867987413\n",
      "3\n",
      "8\n"
     ]
    }
   ],
   "source": [
    "# 3.WAPTP the first and last digit in the given number\n",
    "n=int(input())\n",
    "print(n)\n",
    "digit=n%10\n",
    "print(digit)\n",
    "while n>0:\n",
    "    digit=n%10\n",
    "    n=n//10\n",
    "print(digit)"
   ]
  },
  {
   "cell_type": "code",
   "execution_count": 9,
   "metadata": {},
   "outputs": [
    {
     "name": "stdout",
     "output_type": "stream",
     "text": [
      "1234567898765432\n",
      "last digit is: 2\n",
      "second digit is: 2\n"
     ]
    }
   ],
   "source": [
    "# 4.WAPTP the second digit and last digit in the given number\n",
    "\n",
    "n=int(input())\n",
    "print(n)\n",
    "print('last digit is:',n%10)\n",
    "while n>9:\n",
    "    digit=n%10\n",
    "    n=n//10\n",
    "print('second digit is:',digit)"
   ]
  },
  {
   "cell_type": "code",
   "execution_count": 1,
   "metadata": {},
   "outputs": [
    {
     "name": "stdout",
     "output_type": "stream",
     "text": [
      "4713984566543276478\n",
      "19\n"
     ]
    }
   ],
   "source": [
    "# 5.WAPTP the count of the digits in the given number\n",
    "n=int(input())\n",
    "print(n)\n",
    "count=0\n",
    "while n>0:\n",
    "    digit=n%10\n",
    "    n=n//10\n",
    "    count+=1\n",
    "print(count)\n"
   ]
  },
  {
   "cell_type": "code",
   "execution_count": 2,
   "metadata": {},
   "outputs": [
    {
     "name": "stdout",
     "output_type": "stream",
     "text": [
      "0\n"
     ]
    }
   ],
   "source": [
    "# MIDDLE TERM\n",
    "\n",
    "n=int(input())\n",
    "count=0\n",
    "while n>0:\n",
    "    digit=n%10\n",
    "    count+=1\n",
    "    n=n//10\n",
    "middle=count//2\n",
    "if count%2!=0:\n",
    "    while middle>0:\n",
    "        n=n//10\n",
    "        middle-=1\n",
    "    print(n%10)\n",
    "else:\n",
    "    print('no middle term')\n",
    " \n"
   ]
  },
  {
   "cell_type": "code",
   "execution_count": 5,
   "metadata": {},
   "outputs": [
    {
     "name": "stdout",
     "output_type": "stream",
     "text": [
      "given number is: 1234567890\n",
      "9 7 5 3 1 "
     ]
    }
   ],
   "source": [
    "# 7.WAPTP the odd digits in the given number\n",
    "\n",
    "n=int(input())\n",
    "print('given number is:',n)\n",
    "while n>0:\n",
    "    digit=n%10\n",
    "    if digit%2!=0:\n",
    "        print(digit,end=' ')\n",
    "    n=n//10\n"
   ]
  },
  {
   "cell_type": "code",
   "execution_count": 6,
   "metadata": {},
   "outputs": [
    {
     "name": "stdout",
     "output_type": "stream",
     "text": [
      "987654321\n",
      "2 4 6 8 "
     ]
    }
   ],
   "source": [
    "# 8.WAPTP the even digits in the given number\n",
    "\n",
    "n=int(input())\n",
    "print(n)\n",
    "while n>0:\n",
    "    digit=n%10\n",
    "    if digit%2==0:\n",
    "        print(digit,end=' ')\n",
    "    n=n//10"
   ]
  }
 ],
 "metadata": {
  "kernelspec": {
   "display_name": "Python 3",
   "language": "python",
   "name": "python3"
  },
  "language_info": {
   "codemirror_mode": {
    "name": "ipython",
    "version": 3
   },
   "file_extension": ".py",
   "mimetype": "text/x-python",
   "name": "python",
   "nbconvert_exporter": "python",
   "pygments_lexer": "ipython3",
   "version": "3.11.4"
  }
 },
 "nbformat": 4,
 "nbformat_minor": 2
}
