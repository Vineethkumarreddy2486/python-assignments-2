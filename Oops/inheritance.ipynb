{
 "cells": [
  {
   "cell_type": "code",
   "execution_count": null,
   "metadata": {},
   "outputs": [],
   "source": []
  },
  {
   "cell_type": "code",
   "execution_count": 4,
   "metadata": {},
   "outputs": [
    {
     "name": "stdout",
     "output_type": "stream",
     "text": [
      "vineeth\n",
      "22\n",
      "vineeth\n",
      "22\n",
      "male\n"
     ]
    }
   ],
   "source": [
    "# ex:-1\n",
    "\n",
    "class Student:\n",
    "    name=None\n",
    "    age=None\n",
    "    def __init__(self,name,age):\n",
    "        self.name=name\n",
    "        self.age=age\n",
    "    def display(self):\n",
    "        print(self.name)\n",
    "        print(self.age)\n",
    "    def read(self):\n",
    "        print(self.name,\"is reading\")\n",
    "class Student1(Student):\n",
    "    gender=None\n",
    "    def __init__(self,name,age,gender):\n",
    "        self.name=name\n",
    "        self.age=age                       \n",
    "        self.gender=gender\n",
    "    def display1(self):\n",
    "        print(self.name)\n",
    "        print(self.age)\n",
    "        print(self.gender)\n",
    "s1=Student1('vineeth',22,'male')\n",
    "s1.display()\n",
    "s1.display1()"
   ]
  },
  {
   "cell_type": "code",
   "execution_count": 4,
   "metadata": {},
   "outputs": [
    {
     "name": "stdout",
     "output_type": "stream",
     "text": [
      "12\n",
      "13\n",
      "25\n"
     ]
    }
   ],
   "source": [
    "# ex-2\n",
    "\n",
    "class Sum:\n",
    "    def __init__(self,n1,n2):\n",
    "        self.n1=n1\n",
    "        self.n2=n2\n",
    "    def sumOfNum(self):\n",
    "        self.sum=self.n1+self.n2\n",
    "        print(self.sum)\n",
    "class Sum1(Sum):\n",
    "    def ProdOfNum(self):\n",
    "        self.prod=self.n1*self.n2\n",
    "        print(self.prod)\n",
    "    def display(self):\n",
    "        print(self.n1)\n",
    "        print(self.n2)\n",
    "s1=Sum1(12,13)\n",
    "s1.display()\n",
    "s1.sumOfNum()"
   ]
  },
  {
   "cell_type": "code",
   "execution_count": 5,
   "metadata": {},
   "outputs": [
    {
     "name": "stdout",
     "output_type": "stream",
     "text": [
      "this is animal\n",
      "male\n",
      "this is plant\n",
      "male\n"
     ]
    }
   ],
   "source": [
    "# ex:-3    \"_____METHOD OVERRIDING_____\"\n",
    "\n",
    "\n",
    "class Animal:\n",
    "    def Name_of_animal(self):\n",
    "        print(\"this is animal\")\n",
    "    def Gender_of_animal(self):\n",
    "        print('male')\n",
    "class Plant(Animal):\n",
    "    def Name_of_animal(self):\n",
    "        print('this is plant')\n",
    "p1=Plant()\n",
    "a1=Animal()\n",
    "a1.Name_of_animal()\n",
    "a1.Gender_of_animal()\n",
    "p1.Name_of_animal()\n",
    "p1.Gender_of_animal()\n",
    "\n",
    " \n",
    "        \n"
   ]
  },
  {
   "cell_type": "code",
   "execution_count": 24,
   "metadata": {},
   "outputs": [
    {
     "name": "stdout",
     "output_type": "stream",
     "text": [
      "30\n",
      "200\n"
     ]
    }
   ],
   "source": [
    "# ex:-4 \n",
    "class Sum:\n",
    "    def __init__(self,n1,n2):\n",
    "        self.n1=n1\n",
    "        self.n2=n2\n",
    "    def display(self):\n",
    "        print(self.n1)\n",
    "        print(self.n2)\n",
    "    def Add(self):\n",
    "        self.add=self.n1+self.n2\n",
    "        print(self.add)\n",
    "class Prod(Sum):\n",
    "    def Add(self):\n",
    "        self.prod=self.n1*self.n2\n",
    "        print(self.prod)\n",
    "s1=Sum(10,20)\n",
    "s1.Add()\n",
    "p1=Prod(10,20)\n",
    "p1.Add()"
   ]
  }
 ],
 "metadata": {
  "kernelspec": {
   "display_name": "Python 3",
   "language": "python",
   "name": "python3"
  },
  "language_info": {
   "codemirror_mode": {
    "name": "ipython",
    "version": 3
   },
   "file_extension": ".py",
   "mimetype": "text/x-python",
   "name": "python",
   "nbconvert_exporter": "python",
   "pygments_lexer": "ipython3",
   "version": "3.11.4"
  }
 },
 "nbformat": 4,
 "nbformat_minor": 2
}
