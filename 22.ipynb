{
 "cells": [
  {
   "cell_type": "code",
   "execution_count": null,
   "metadata": {},
   "outputs": [],
   "source": [
    "# WAP to check whether a given value is present in between 45 to 125 and the number\n",
    "# should be divisible by 4 and 5 and even value. If satisfied, to display the ascii\n",
    "# character.\n",
    "\n",
    "num=int(input('Enter a number'))\n",
    "if(num>45 and num<125)and(num%4 and num%5 and num%2)==0:\n",
    "    res=chr(num)\n",
    "    print(res)"
   ]
  }
 ],
 "metadata": {
  "language_info": {
   "name": "python"
  }
 },
 "nbformat": 4,
 "nbformat_minor": 2
}
