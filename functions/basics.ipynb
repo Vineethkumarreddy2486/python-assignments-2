{
 "cells": [
  {
   "cell_type": "code",
   "execution_count": null,
   "metadata": {},
   "outputs": [],
   "source": [
    "# FUNCTION:-Function is a block or area which is used to store the set of instructions,where the\n",
    "# set of instuctions are used to perform a task.\n",
    "\n",
    "# 1.Why we need ?\n",
    "#--->to reuse a code\n",
    "\n",
    "# 2.Where we use function ?\n",
    "# wherever we found that the code is repeatative with respect to different inputs,there we use.\n",
    "\n",
    "# SYNTAX:--  def functionname():\n",
    "#                instructions(code)\n",
    " #           functionname()"
   ]
  },
  {
   "cell_type": "code",
   "execution_count": 1,
   "metadata": {},
   "outputs": [
    {
     "name": "stdout",
     "output_type": "stream",
     "text": [
      "hello world\n"
     ]
    }
   ],
   "source": [
    "# 1.WAPTP hello world.\n",
    "\n",
    "def greet ():\n",
    "    print('hello world')\n",
    "greet()"
   ]
  },
  {
   "cell_type": "code",
   "execution_count": 2,
   "metadata": {},
   "outputs": [
    {
     "name": "stdout",
     "output_type": "stream",
     "text": [
      "gud mrng\n",
      "gud evng\n"
     ]
    }
   ],
   "source": [
    "# 2.WAPT create two functions and call them respectively.\n",
    "\n",
    "def greet1():\n",
    "    print('gud mrng')\n",
    "def greet2():\n",
    "    print('gud evng')\n",
    "greet1()\n",
    "greet2()"
   ]
  },
  {
   "cell_type": "code",
   "execution_count": 3,
   "metadata": {},
   "outputs": [
    {
     "name": "stdout",
     "output_type": "stream",
     "text": [
      "gud mrng\n",
      "gud mrng\n",
      "gud afternoon\n",
      "gud evng\n",
      "gud afternoon\n",
      "gud evng\n"
     ]
    }
   ],
   "source": [
    "# 3.WAPT create three functions and store the instructions and call each function twice.\n",
    "\n",
    "def greet1():\n",
    "    print('gud mrng')\n",
    "def greet2():\n",
    "    print('gud afternoon')\n",
    "def greet3():\n",
    "    print('gud evng')\n",
    "greet1()\n",
    "greet1()\n",
    "greet2()\n",
    "greet3()\n",
    "greet2()\n",
    "greet3()"
   ]
  },
  {
   "cell_type": "code",
   "execution_count": 4,
   "metadata": {},
   "outputs": [
    {
     "name": "stdout",
     "output_type": "stream",
     "text": [
      "a= 10\n",
      "b= 15\n",
      "25\n"
     ]
    }
   ],
   "source": [
    "# 4.WAPTP the sum of the given two digits.\n",
    "\n",
    "def addition():\n",
    "    a=int(input('enter 1st value'))\n",
    "    b=int(input('enter 2nd value'))\n",
    "    print('a=',a)\n",
    "    print('b=',b)\n",
    "    print(a+b)\n",
    "addition()"
   ]
  }
 ],
 "metadata": {
  "kernelspec": {
   "display_name": "Python 3",
   "language": "python",
   "name": "python3"
  },
  "language_info": {
   "codemirror_mode": {
    "name": "ipython",
    "version": 3
   },
   "file_extension": ".py",
   "mimetype": "text/x-python",
   "name": "python",
   "nbconvert_exporter": "python",
   "pygments_lexer": "ipython3",
   "version": "3.11.4"
  }
 },
 "nbformat": 4,
 "nbformat_minor": 2
}
