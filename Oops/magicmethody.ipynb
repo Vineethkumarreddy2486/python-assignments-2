{
 "cells": [
  {
   "cell_type": "code",
   "execution_count": 12,
   "metadata": {},
   "outputs": [
    {
     "name": "stdout",
     "output_type": "stream",
     "text": [
      "21vineeth\n"
     ]
    }
   ],
   "source": [
    "class vineeth:\n",
    "    def __init__(self,name,roll):\n",
    "        self.name=name\n",
    "        self.roll=roll\n",
    "\n",
    "    def __str__(self):\n",
    "        return str(self.roll)+self.name\n",
    "    \n",
    "v1=vineeth(\"vineeth\",21)\n",
    "print(v1)"
   ]
  },
  {
   "cell_type": "code",
   "execution_count": 24,
   "metadata": {},
   "outputs": [
    {
     "name": "stdout",
     "output_type": "stream",
     "text": [
      "70000 ==>     +\n",
      "-10000 ==>     -\n",
      "1200000000 ==>     *\n",
      "30000 ==>     %\n",
      "0.75 ==>     /\n",
      "False ==>     >\n",
      "True ==>     <\n",
      "False ==>   >=\n",
      "False ==>   ==\n",
      "True ==>   !=\n",
      "0 ==>   //\n"
     ]
    },
    {
     "data": {
      "text/plain": [
       "30000"
      ]
     },
     "execution_count": 24,
     "metadata": {},
     "output_type": "execute_result"
    }
   ],
   "source": [
    "class Class:\n",
    "    def __init__(self,name,sal) :\n",
    "        self.name=name\n",
    "        self.sal=sal\n",
    "    \n",
    "    def __add__(self,new):\n",
    "        return self.sal+new.sal\n",
    "\n",
    "    def __sub__(self,new):\n",
    "        return self.sal-new.sal\n",
    "    \n",
    "    def __mul__(self,new):\n",
    "        return self.sal*new.sal\n",
    "    \n",
    "    def __mod__(self,new):\n",
    "        return self.sal%new.sal\n",
    "    \n",
    "    def __divmod__(self,new):\n",
    "        return self.sal % new.sal\n",
    "\n",
    "    \n",
    "    def __floordiv__(self,new):\n",
    "        return self.sal//new.sal\n",
    "    \n",
    "    def __pow__(self,new):\n",
    "        return self.sal**new.sal\n",
    "    \n",
    "    def __truediv__(self,new):\n",
    "        return self.sal/new.sal\n",
    "    \n",
    "    def __gt__(self,new):\n",
    "        return self.sal>new.sal\n",
    "    \n",
    "    def __lt__(self,new):\n",
    "        return self.sal<new.sal\n",
    "    \n",
    "    def __ge__(self,new):\n",
    "        return self.sal>=new.sal\n",
    "    \n",
    "    def __le__(self,new):\n",
    "        return self.sal<=new.sal\n",
    "    \n",
    "    def __eq__(self,new):\n",
    "        return self.sal==new.sal\n",
    "    \n",
    "    def __n__(self,new):\n",
    "        return self.sal!=new.sal\n",
    "    \n",
    "c1=Class(\"name\",30000)\n",
    "c2=Class(\"name2\",40000)\n",
    "\n",
    "print(c1+c2,\"==>     +\")\n",
    "print(c1-c2,\"==>     -\")\n",
    "print(c1*c2,\"==>     *\")\n",
    "print(c1%c2,\"==>     %\")\n",
    "print(c1/c2,\"==>     /\")\n",
    "print(c1>c2,\"==>     >\")\n",
    "print(c1<c2,\"==>     <\")\n",
    "print(c1>=c2,\"==>   >=\")\n",
    "print(c1==c2,\"==>   ==\")\n",
    "print(c1!=c2,\"==>   !=\")\n",
    "print(c1//c2,\"==>   //\")\n",
    "\n",
    "divmod(c1,c2)\n"
   ]
  },
  {
   "cell_type": "code",
   "execution_count": null,
   "metadata": {},
   "outputs": [],
   "source": []
  }
 ],
 "metadata": {
  "kernelspec": {
   "display_name": "Python 3",
   "language": "python",
   "name": "python3"
  },
  "language_info": {
   "codemirror_mode": {
    "name": "ipython",
    "version": 3
   },
   "file_extension": ".py",
   "mimetype": "text/x-python",
   "name": "python",
   "nbconvert_exporter": "python",
   "pygments_lexer": "ipython3",
   "version": "3.11.4"
  }
 },
 "nbformat": 4,
 "nbformat_minor": 2
}
