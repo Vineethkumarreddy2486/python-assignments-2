{
 "cells": [
  {
   "cell_type": "code",
   "execution_count": 12,
   "metadata": {},
   "outputs": [
    {
     "data": {
      "text/plain": [
       "22"
      ]
     },
     "execution_count": 12,
     "metadata": {},
     "output_type": "execute_result"
    }
   ],
   "source": [
    "# one way for write mode\n",
    "\n",
    "file=open('ac.txt','w')\n",
    "file.write('hii my name is vineeth')"
   ]
  },
  {
   "cell_type": "code",
   "execution_count": 26,
   "metadata": {},
   "outputs": [
    {
     "name": "stdout",
     "output_type": "stream",
     "text": [
      "data written successfully\n"
     ]
    }
   ],
   "source": [
    "# writing in multiple rows\n",
    "\n",
    "file=open('ac.txt','w')\n",
    "list=['vineeth\\n','reddy\\n']\n",
    "file.writelines(list)\n",
    "print('data written successfully')"
   ]
  },
  {
   "cell_type": "code",
   "execution_count": 27,
   "metadata": {},
   "outputs": [
    {
     "name": "stdout",
     "output_type": "stream",
     "text": [
      "written successfully\n"
     ]
    }
   ],
   "source": [
    "# using append\n",
    "\n",
    "file=open('ac.txt','a')\n",
    "list=['howareyou\\n','Isevrythngok..?']\n",
    "file.writelines(list)\n",
    "print('written successfully')"
   ]
  },
  {
   "cell_type": "code",
   "execution_count": 28,
   "metadata": {},
   "outputs": [
    {
     "name": "stdout",
     "output_type": "stream",
     "text": [
      "vineeth\n",
      "reddy\n",
      "howareyou\n",
      "Isevrythngok..?\n"
     ]
    }
   ],
   "source": [
    "# reading character data from text files\n",
    "# to read total data from the file\n",
    "\n",
    "file=open('ac.txt','r')\n",
    "data=file.read()\n",
    "print(data)"
   ]
  },
  {
   "cell_type": "code",
   "execution_count": 36,
   "metadata": {},
   "outputs": [
    {
     "name": "stdout",
     "output_type": "stream",
     "text": [
      "vine\n"
     ]
    }
   ],
   "source": [
    "# to read only first 7 characters\n",
    "\n",
    "file=open('ac.txt','r')\n",
    "print(file.read(4))\n",
    "file.close()"
   ]
  },
  {
   "cell_type": "code",
   "execution_count": 35,
   "metadata": {},
   "outputs": [
    {
     "name": "stdout",
     "output_type": "stream",
     "text": [
      "vineeth\n",
      "\n",
      "reddy\n",
      "\n",
      "howareyou\n",
      "\n"
     ]
    }
   ],
   "source": [
    "# to read data line by line\n",
    "\n",
    "file=open('ac.txt','r')\n",
    "data=file.readline()\n",
    "print(data)\n",
    "data1=file.readline()\n",
    "print(data1)\n",
    "data2=file.readline()\n",
    "print(data2)\n",
    "file.close()"
   ]
  },
  {
   "cell_type": "code",
   "execution_count": 39,
   "metadata": {},
   "outputs": [
    {
     "name": "stdout",
     "output_type": "stream",
     "text": [
      "['vineeth\\n', 'reddy\\n', 'howareyou\\n', 'Isevrythngok..?']\n"
     ]
    }
   ],
   "source": [
    "# to read all lines into list use readlines()\n",
    "\n",
    "file=open('ac.txt','r')\n",
    "data=file.readlines()\n",
    "print(data)"
   ]
  },
  {
   "cell_type": "code",
   "execution_count": 38,
   "metadata": {},
   "outputs": [],
   "source": [
    "# read and write \n",
    "\n",
    "file=open('ac.txt','r')\n",
    "data=file.read()\n",
    "file2=open('xyz.txt','w')\n",
    "data=file2.write(data)\n",
    "file.close()\n",
    "file2.close()"
   ]
  },
  {
   "cell_type": "code",
   "execution_count": null,
   "metadata": {},
   "outputs": [],
   "source": []
  }
 ],
 "metadata": {
  "kernelspec": {
   "display_name": "Python 3",
   "language": "python",
   "name": "python3"
  },
  "language_info": {
   "codemirror_mode": {
    "name": "ipython",
    "version": 3
   },
   "file_extension": ".py",
   "mimetype": "text/x-python",
   "name": "python",
   "nbconvert_exporter": "python",
   "pygments_lexer": "ipython3",
   "version": "3.12.4"
  }
 },
 "nbformat": 4,
 "nbformat_minor": 2
}
