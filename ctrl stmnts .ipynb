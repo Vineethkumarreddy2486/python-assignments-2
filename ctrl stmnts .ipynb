{
 "cells": [
  {
   "cell_type": "code",
   "execution_count": 1,
   "metadata": {},
   "outputs": [
    {
     "name": "stdout",
     "output_type": "stream",
     "text": [
      "D\n"
     ]
    }
   ],
   "source": [
    "#21. WAP to check whether a given value is present in between 45 to 125 and the number\n",
    "# should be divisible by 4 and 5 and even value. If satisfied, to display the ascii\n",
    "# character.\n",
    "\n",
    "num=int(input('Enter a number'))\n",
    "if(num>45 and num<125)and(num%4 and num%5 and num%2)==0:\n",
    "    res=chr(num)\n",
    "    print(res)\n"
   ]
  },
  {
   "cell_type": "code",
   "execution_count": 3,
   "metadata": {},
   "outputs": [
    {
     "name": "stdout",
     "output_type": "stream",
     "text": [
      "200\n"
     ]
    }
   ],
   "source": [
    "# 22. WAP to check whether a given value is present in between 25 to 100 and the number\n",
    "# should be divisible by 4 and 5. If satisfied, to display multiplication of given value\n",
    "# with 5.\n",
    "\n",
    "num=int(input('enter a number'))\n",
    "if (num>25 and num<100)and(num%5==0 and num%4==0):\n",
    "    print(num*5)\n",
    "\n"
   ]
  },
  {
   "cell_type": "code",
   "execution_count": 6,
   "metadata": {},
   "outputs": [
    {
     "name": "stdout",
     "output_type": "stream",
     "text": [
      "5.0\n"
     ]
    }
   ],
   "source": [
    "# 23. WAP to check whether a given number is an integer and odd number. If the\n",
    "# condition is satisfied, the integer is divisible by 5 and displays the result.\n",
    "\n",
    "num=int(input('enter a number'))\n",
    "if num>=0 or num<0 and num%2!=0:\n",
    "    print(num/5)"
   ]
  },
  {
   "cell_type": "code",
   "execution_count": 35,
   "metadata": {},
   "outputs": [
    {
     "name": "stdout",
     "output_type": "stream",
     "text": [
      "<class 'int'>\n",
      "62\n",
      "<class 'str'>\n",
      "2\n"
     ]
    }
   ],
   "source": [
    "\"\"\"DOUBT\"\"\"\n",
    "\n",
    "# 24. WAP to check whether a given value is an integer or not. If integer, the given value\n",
    "# is converted to string and displays the result.\n",
    "\n",
    "num=62\n",
    "print(type(num))\n",
    "if num>=0 or num<0:\n",
    "    res=str(num)\n",
    "    print(res)\n",
    "    print(type(res))\n",
    "    print(res[1])\n"
   ]
  },
  {
   "cell_type": "code",
   "execution_count": 38,
   "metadata": {},
   "outputs": [
    {
     "name": "stdout",
     "output_type": "stream",
     "text": [
      "0\n"
     ]
    }
   ],
   "source": [
    "# 25. WAP to check whether a given value is less than 125 and greater than 60 or not. If\n",
    "# the condition is satisfied, take the name and extract the middle character and\n",
    "# display it.\n",
    "\n",
    "num=int(input('enter a value'))\n",
    "if num>60 and num<125:\n",
    "    res=str(num)\n",
    "    name=res[1]\n",
    "    print(name)"
   ]
  },
  {
   "cell_type": "code",
   "execution_count": 43,
   "metadata": {},
   "outputs": [
    {
     "name": "stdout",
     "output_type": "stream",
     "text": [
      "-246\n"
     ]
    }
   ],
   "source": [
    "# 26. WAP to check whether a given two integers are equal or not. If both are equal, to\n",
    "# perform addition and display the result.\n",
    "\n",
    "num1=int(input('enter num1 value'))\n",
    "num2=int(input('enter num2 value'))\n",
    "if num1==num2:\n",
    "    print(num1+num2)"
   ]
  },
  {
   "cell_type": "code",
   "execution_count": 47,
   "metadata": {},
   "outputs": [
    {
     "name": "stdout",
     "output_type": "stream",
     "text": [
      "151.29000000000002\n",
      "50.43000000000001\n"
     ]
    }
   ],
   "source": [
    "# 27. WAP to check whether two values are equal or not. if equal, to perform\n",
    "# multiplication of two numbers and that result is division by 3 and display the value. \n",
    "\n",
    "num1=float(input('enter 1st value'))\n",
    "num2=float(input('enter 2nd value'))\n",
    "if num1==num2:\n",
    "    res=num1*num2\n",
    "    print(res)\n",
    "    print(res/3)\n"
   ]
  },
  {
   "cell_type": "code",
   "execution_count": 51,
   "metadata": {},
   "outputs": [
    {
     "name": "stdout",
     "output_type": "stream",
     "text": [
      "{'A': 65}\n"
     ]
    }
   ],
   "source": [
    "# 28. WAP to check whether a character is in the alphabet or not. If the alphabet, store the\n",
    "# value inside the dict(key as a character and value as an ascii value).\n",
    "\n",
    "ch=input('enter a character')\n",
    "if ch>='a'or ch<='z' and ch>='A'or ch<='Z':\n",
    "    dict={ch:ord(ch)}\n",
    "    print(dict)\n"
   ]
  },
  {
   "cell_type": "code",
   "execution_count": 53,
   "metadata": {},
   "outputs": [
    {
     "name": "stdout",
     "output_type": "stream",
     "text": [
      "{'H': 72}\n"
     ]
    }
   ],
   "source": [
    "# 29. WAP to check whether a character is in the uppercase or not. If the uppercase, store\n",
    "# the value inside the dict(key as a character and value as an ascii value).\n",
    "\n",
    "ch=input('enter a character')\n",
    "if ch>='A'and ch<='Z':\n",
    "    dict={ch:ord(ch)}\n",
    "    print(dict)"
   ]
  },
  {
   "cell_type": "code",
   "execution_count": 66,
   "metadata": {},
   "outputs": [
    {
     "name": "stdout",
     "output_type": "stream",
     "text": [
      "g\n",
      "{'ch': 71} {'ch2': 103}\n"
     ]
    }
   ],
   "source": [
    "# 30. WAP to check whether a character is in the uppercase or not. If the uppercase,\n",
    "# convert to lowercase and store the value inside the dict(character as a key and ascii\n",
    "# # value as a value).\n",
    "\n",
    "ch=input('enter a character')\n",
    "if ch>='A'and ch<='Z':\n",
    "    ch2ascii=ord(ch)+32 \n",
    "    ch2=chr(ch2ascii)\n",
    "    print(ch2)\n",
    "    dict1={'ch':ord(ch)}\n",
    "    dict2={'ch2':ord(ch2)}\n",
    "    print(dict1,dict2)\n",
    "   \n",
    "\n"
   ]
  },
  {
   "cell_type": "code",
   "execution_count": null,
   "metadata": {},
   "outputs": [],
   "source": []
  },
  {
   "cell_type": "code",
   "execution_count": null,
   "metadata": {},
   "outputs": [],
   "source": []
  }
 ],
 "metadata": {
  "kernelspec": {
   "display_name": "Python 3",
   "language": "python",
   "name": "python3"
  },
  "language_info": {
   "codemirror_mode": {
    "name": "ipython",
    "version": 3
   },
   "file_extension": ".py",
   "mimetype": "text/x-python",
   "name": "python",
   "nbconvert_exporter": "python",
   "pygments_lexer": "ipython3",
   "version": "3.11.4"
  }
 },
 "nbformat": 4,
 "nbformat_minor": 2
}
