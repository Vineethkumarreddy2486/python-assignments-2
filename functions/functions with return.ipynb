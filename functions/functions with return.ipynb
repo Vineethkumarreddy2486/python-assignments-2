{
 "cells": [
  {
   "cell_type": "code",
   "execution_count": 7,
   "metadata": {},
   "outputs": [
    {
     "name": "stdout",
     "output_type": "stream",
     "text": [
      "hello\n"
     ]
    }
   ],
   "source": [
    "# example 1:-\n",
    "\n",
    "def f1():\n",
    "    print('hello')\n",
    "    return\n",
    "    print('bye')\n",
    "f1()\n"
   ]
  },
  {
   "cell_type": "code",
   "execution_count": 8,
   "metadata": {},
   "outputs": [
    {
     "name": "stdout",
     "output_type": "stream",
     "text": [
      "hello\n"
     ]
    },
    {
     "data": {
      "text/plain": [
       "10"
      ]
     },
     "execution_count": 8,
     "metadata": {},
     "output_type": "execute_result"
    }
   ],
   "source": [
    "# example 2:-\n",
    "\n",
    "def f1():\n",
    "    print('hello')\n",
    "    return 10\n",
    "    print('bye')\n",
    "f1()\n"
   ]
  },
  {
   "cell_type": "code",
   "execution_count": 17,
   "metadata": {},
   "outputs": [
    {
     "name": "stdout",
     "output_type": "stream",
     "text": [
      "hii vineeth\n",
      "hii vinny\n"
     ]
    }
   ],
   "source": [
    "# example 3:-\n",
    "\n",
    "def f1(st):\n",
    "    return 'hii '+ st\n",
    "print(f1('vineeth'))\n",
    "c=f1('vinny')\n",
    "print(c)\n"
   ]
  },
  {
   "cell_type": "code",
   "execution_count": 20,
   "metadata": {},
   "outputs": [
    {
     "name": "stdout",
     "output_type": "stream",
     "text": [
      "10\n"
     ]
    }
   ],
   "source": [
    "# 1.WAPTP the sum of the 2 numbers\n",
    "\n",
    "def sum(n1,n2):\n",
    "    res=n1+n2\n",
    "    return res\n",
    "print(sum(2,3)+sum(2,3))"
   ]
  },
  {
   "cell_type": "code",
   "execution_count": 7,
   "metadata": {},
   "outputs": [
    {
     "name": "stdout",
     "output_type": "stream",
     "text": [
      "10\n"
     ]
    }
   ],
   "source": [
    "# 2.WAPTP the count of the digits in a given number\n",
    "\n",
    "def countofdigits(n):\n",
    "    count=0\n",
    "    for i in str(n):\n",
    "        count+=1\n",
    "    return count\n",
    "print(countofdigits(1234124324))\n",
    "\n",
    "\n"
   ]
  },
  {
   "cell_type": "code",
   "execution_count": 2,
   "metadata": {},
   "outputs": [
    {
     "name": "stdout",
     "output_type": "stream",
     "text": [
      "True\n"
     ]
    }
   ],
   "source": [
    "# WAPT check the given number is perfect number or not with boolean results\n",
    "\n",
    "def isperfect(n):\n",
    "    sum=0\n",
    "    for i in range(1,n):\n",
    "        if n%i==0:\n",
    "            sum+=i\n",
    "    return sum==n\n",
    "print(isperfect(6))"
   ]
  }
 ],
 "metadata": {
  "kernelspec": {
   "display_name": "Python 3",
   "language": "python",
   "name": "python3"
  },
  "language_info": {
   "codemirror_mode": {
    "name": "ipython",
    "version": 3
   },
   "file_extension": ".py",
   "mimetype": "text/x-python",
   "name": "python",
   "nbconvert_exporter": "python",
   "pygments_lexer": "ipython3",
   "version": "3.11.4"
  }
 },
 "nbformat": 4,
 "nbformat_minor": 2
}
