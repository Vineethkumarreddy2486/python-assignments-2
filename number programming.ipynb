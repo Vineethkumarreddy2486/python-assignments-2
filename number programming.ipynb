{
 "cells": [
  {
   "cell_type": "code",
   "execution_count": null,
   "metadata": {},
   "outputs": [],
   "source": [
    "#**\\______________NUMBER PROGRAMMING_______________/**#\n",
    "\n",
    "# The process of performing the task with respective to the each digit of the given number is called \n",
    "# number programming\n",
    "# It can be done from right to left direction of the given number\n",
    "# Get the last digit by using n%10\n",
    "# Remove the last digit by using n//10"
   ]
  },
  {
   "cell_type": "code",
   "execution_count": 3,
   "metadata": {},
   "outputs": [
    {
     "name": "stdout",
     "output_type": "stream",
     "text": [
      "0 9 8 7 6 5 4 3 2 1 3 2 1 "
     ]
    }
   ],
   "source": [
    "# EXAMPLE\n",
    "\n",
    "n=1231234567890\n",
    "while n>0:\n",
    "    print(n%10,end=' ')\n",
    "    n=n//10"
   ]
  },
  {
   "cell_type": "code",
   "execution_count": 10,
   "metadata": {},
   "outputs": [
    {
     "name": "stdout",
     "output_type": "stream",
     "text": [
      "123456789\n",
      "the sum of the given number is: 45\n"
     ]
    }
   ],
   "source": [
    "# 1.WAPTP the sum of the digits in the given number\n",
    "\n",
    "n=int(input())\n",
    "print(n)\n",
    "sum=0\n",
    "while n>0: \n",
    "    digit=n%10\n",
    "    n=n//10\n",
    "    sum+=digit\n",
    "print('the sum of the given number is:',sum)"
   ]
  },
  {
   "cell_type": "code",
   "execution_count": 12,
   "metadata": {},
   "outputs": [
    {
     "name": "stdout",
     "output_type": "stream",
     "text": [
      "the product of the given number 0 6\n"
     ]
    }
   ],
   "source": [
    "# 2.WAPTP the product of the digits in the given number\n",
    "\n",
    "n=int(input())\n",
    "product=1\n",
    "while n>0:\n",
    "    digit=n%10\n",
    "    n=n//10\n",
    "    product*=digit\n",
    "print('the product of the given number'+n,product)"
   ]
  }
 ],
 "metadata": {
  "kernelspec": {
   "display_name": "Python 3",
   "language": "python",
   "name": "python3"
  },
  "language_info": {
   "codemirror_mode": {
    "name": "ipython",
    "version": 3
   },
   "file_extension": ".py",
   "mimetype": "text/x-python",
   "name": "python",
   "nbconvert_exporter": "python",
   "pygments_lexer": "ipython3",
   "version": "3.11.4"
  }
 },
 "nbformat": 4,
 "nbformat_minor": 2
}
