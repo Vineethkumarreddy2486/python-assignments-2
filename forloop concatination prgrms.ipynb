{
 "cells": [
  {
   "cell_type": "code",
   "execution_count": 1,
   "metadata": {},
   "outputs": [
    {
     "name": "stdout",
     "output_type": "stream",
     "text": [
      "123@AbC\n",
      "123@aBc\n"
     ]
    }
   ],
   "source": [
    "st=input()\n",
    "res=\"\"\n",
    "print(st)\n",
    "for i in st:\n",
    "    if (i>='a' and i<='z')or(i>='A' and i<='z'):\n",
    "        if i>='a' and i<='z':\n",
    "            res=res+chr(ord(i)-32)\n",
    "        else:\n",
    "            res=res+chr(ord(i)+32)\n",
    "    else:\n",
    "        res=res+i\n",
    "print(res)\n"
   ]
  },
  {
   "cell_type": "code",
   "execution_count": 4,
   "metadata": {},
   "outputs": [
    {
     "name": "stdout",
     "output_type": "stream",
     "text": [
      "given st is : AbcDe@123\n",
      "abcDE@123\n"
     ]
    }
   ],
   "source": [
    "st=input()\n",
    "print('given st is :',st)\n",
    "res=''\n",
    "for i in st:\n",
    "    if i in \"aeiou\":\n",
    "        res=res+chr(ord(i)-32)\n",
    "    elif i in \"AEIOU\":\n",
    "        res=res+chr(ord(i)+32)\n",
    "    else:\n",
    "        res=res+i\n",
    "print(res)\n"
   ]
  },
  {
   "cell_type": "code",
   "execution_count": 7,
   "metadata": {},
   "outputs": [
    {
     "name": "stdout",
     "output_type": "stream",
     "text": [
      "abcabc\n",
      "abc\n"
     ]
    }
   ],
   "source": [
    "st=input()\n",
    "print(st)\n",
    "res=''\n",
    "for i in st:\n",
    "    if i not in res:\n",
    "        res=res+i\n",
    "print(res)"
   ]
  },
  {
   "cell_type": "code",
   "execution_count": null,
   "metadata": {},
   "outputs": [],
   "source": [
    "st=input()\n",
    "res1=''\n",
    "res2=''\n",
    "res3=''\n",
    "for i in st:\n",
    "    if (i>='a' and i<='z')or(i>='A' and i<='Z'):\n",
    "        res1+=i\n",
    "    elif (i>='a' and i<='z')or(i>='A' and i<='Z')or(i>='0' and ):\n"
   ]
  },
  {
   "cell_type": "code",
   "execution_count": 13,
   "metadata": {},
   "outputs": [
    {
     "name": "stdout",
     "output_type": "stream",
     "text": [
      "given st : hello world 123 haii\n",
      "hll wrld 123 h\n",
      "eooaii\n"
     ]
    }
   ],
   "source": [
    "# i/p: 'hello world 123 haii'\n",
    "# o/p: 'eoo123aii'\n",
    "\n",
    "st=input()\n",
    "print('given st :',st)\n",
    "res1=''\n",
    "res2=''\n",
    "for i in st:\n",
    "    if i not in'aeiouAEIOU' or i==' ':\n",
    "        res1=res1+i\n",
    "    elif i in 'aeiouAEIOU':\n",
    "        res2+=i\n",
    "print(res1)\n",
    "print(res2)"
   ]
  },
  {
   "cell_type": "code",
   "execution_count": 15,
   "metadata": {},
   "outputs": [
    {
     "name": "stdout",
     "output_type": "stream",
     "text": [
      "hello world123 haii\n"
     ]
    }
   ],
   "source": [
    "st='hello world 123 haii '\n",
    "res=''\n",
    "c=0\n",
    "for i in st:\n",
    "    if i==' ':\n",
    "        c+=1\n",
    "        if c%2==1:\n",
    "            if (i not in 'aeiouAEIOU') :\n",
    "                res+=i\n",
    "    else:\n",
    "            res+=i\n",
    "    \n",
    "print(res)\n"
   ]
  },
  {
   "cell_type": "code",
   "execution_count": 4,
   "metadata": {},
   "outputs": [
    {
     "name": "stdout",
     "output_type": "stream",
     "text": [
      "3\n",
      "axbyczwop\n"
     ]
    }
   ],
   "source": [
    "# i/p:-'abc'\n",
    "# i/p2:-'xyzwop'\n",
    "# o/p:-'axbyczwop'\n",
    "\n",
    "st1='abc'\n",
    "st2='xyzwop'\n",
    "res=''\n",
    "l1=len(st1)\n",
    "print(l1)\n",
    "l2=len(st2)\n",
    "if l1>l2:\n",
    "    great=l1\n",
    "    small=l2\n",
    "else:\n",
    "    great=l2\n",
    "    small=l1\n",
    "i=0\n",
    "while i<great:\n",
    "    if i<small:\n",
    "        res+=st1[i]+st2[i]\n",
    "    else:\n",
    "        res+=st2[i]\n",
    "    i+=1\n",
    "print(res)"
   ]
  },
  {
   "cell_type": "code",
   "execution_count": 33,
   "metadata": {},
   "outputs": [
    {
     "name": "stdout",
     "output_type": "stream",
     "text": [
      "axbyczd\n"
     ]
    }
   ],
   "source": [
    "# i/p:-'abcd'\n",
    "# i/p2:-'xyz'\n",
    "# o/p:-'axbyczd'\n",
    "\n",
    "st1='abcd'\n",
    "st2='xyz'\n",
    "res=''\n",
    "l1=len(st1)\n",
    "l2=len(st2)\n",
    "if l1>l2:\n",
    "    great=l1\n",
    "    small=l2\n",
    "else:\n",
    "    great=l2\n",
    "    small=l1\n",
    "i=0\n",
    "while i<great:\n",
    "    if i<small:\n",
    "        res+=st1[i]+st2[i]\n",
    "    else:\n",
    "        res+=st1[i]\n",
    "    i+=1\n",
    "print(res)"
   ]
  },
  {
   "cell_type": "code",
   "execution_count": 34,
   "metadata": {},
   "outputs": [
    {
     "name": "stdout",
     "output_type": "stream",
     "text": [
      "3\n",
      "axbycz\n"
     ]
    }
   ],
   "source": [
    "# i/p:-'abc'\n",
    "# i/p2:-'xyz'\n",
    "# o/p:-'axbycz'\n",
    "\n",
    "st1='abc'\n",
    "st2='xyz'\n",
    "res=''\n",
    "l1=len(st1)\n",
    "l2=len(st2)\n",
    "if l1==l2:\n",
    "    equal=l1=l2\n",
    "i=0\n",
    "while i<equal:\n",
    "    res+=st1[i]+st2[i]\n",
    "    i+=1\n",
    "print(res)"
   ]
  },
  {
   "cell_type": "code",
   "execution_count": 22,
   "metadata": {},
   "outputs": [
    {
     "name": "stdout",
     "output_type": "stream",
     "text": [
      "a1b2c\n"
     ]
    }
   ],
   "source": [
    "# ip:-'abc12'\n",
    "# op:-'a1b2c'\n",
    "\n",
    "st='abc12'\n",
    "st1=''\n",
    "st2=''\n",
    "res=''\n",
    "for i in st:\n",
    "    if i>='a'and i<='z':\n",
    "        st1+=i\n",
    "    else:\n",
    "        st2+=i\n",
    "l1=len(st1)\n",
    "l2=len(st2)\n",
    "if l1>l2:\n",
    "    great=l1\n",
    "    small=l2\n",
    "else:\n",
    "    great=l2\n",
    "    small=l1  \n",
    "i=0\n",
    "while i<great:\n",
    "    if i<small:\n",
    "        res+=st1[i]+st2[i]\n",
    "    else:\n",
    "        res+=st1[i]\n",
    "    i+=1\n",
    "print(res)\n"
   ]
  },
  {
   "cell_type": "code",
   "execution_count": 25,
   "metadata": {},
   "outputs": [
    {
     "name": "stdout",
     "output_type": "stream",
     "text": [
      "a1b2c34\n"
     ]
    }
   ],
   "source": [
    "# ip:-'abc1234'\n",
    "# op:-'a1b2c34'\n",
    "\n",
    "st='abc1234'\n",
    "st1=''\n",
    "st2=''\n",
    "res=''\n",
    "for i in st:\n",
    "    if i>='a'and i<='z':\n",
    "        st1+=i\n",
    "    else:\n",
    "        st2+=i\n",
    "l1=len(st1)\n",
    "l2=len(st2)\n",
    "if l1>l2:\n",
    "    great=l1\n",
    "    small=l2\n",
    "else:\n",
    "    great=l2\n",
    "    small=l1  \n",
    "i=0\n",
    "while i<great:\n",
    "    if i<small:\n",
    "        res+=st1[i]+st2[i]\n",
    "    else:\n",
    "        res+=st2[i]\n",
    "    i+=1\n",
    "print(res)\n"
   ]
  },
  {
   "cell_type": "code",
   "execution_count": 30,
   "metadata": {},
   "outputs": [
    {
     "name": "stdout",
     "output_type": "stream",
     "text": [
      "a1b2c3d4e5\n"
     ]
    }
   ],
   "source": [
    "# ip:-'abcd1234'\n",
    "# op:-'a1b2c3d4'\n",
    "\n",
    "st='abcd1234'\n",
    "st1=''\n",
    "st2=''\n",
    "res=''\n",
    "for i in st:\n",
    "    if i>='a'and i<='z':\n",
    "        st1+=i\n",
    "    else:\n",
    "        st2+=i\n",
    "l1=len(st1)\n",
    "l2=len(st2)  \n",
    "if l1==l2:\n",
    "    equal=l1=l2\n",
    "i=0\n",
    "while i<equal:\n",
    "    res+=st1[i]+st2[i]\n",
    "    i+=1\n",
    "print(res)\n"
   ]
  },
  {
   "cell_type": "code",
   "execution_count": 10,
   "metadata": {},
   "outputs": [
    {
     "name": "stdout",
     "output_type": "stream",
     "text": [
      "0 1\n",
      "1 2\n",
      "2 45\n",
      "3 678\n",
      "4 98\n"
     ]
    }
   ],
   "source": [
    "# WAPT access the list index and values\n",
    "\n",
    "l=[1,2,45,678,98]\n",
    "i=0\n",
    "while i<len(l):\n",
    "    indexes=i\n",
    "    values=l[i]\n",
    "    print(indexes,values)\n",
    "    i+=1"
   ]
  },
  {
   "cell_type": "code",
   "execution_count": 25,
   "metadata": {},
   "outputs": [
    {
     "ename": "TypeError",
     "evalue": "can only concatenate str (not \"int\") to str",
     "output_type": "error",
     "traceback": [
      "\u001b[1;31m---------------------------------------------------------------------------\u001b[0m",
      "\u001b[1;31mTypeError\u001b[0m                                 Traceback (most recent call last)",
      "Cell \u001b[1;32mIn[25], line 17\u001b[0m\n\u001b[0;32m     15\u001b[0m \u001b[38;5;28;01mwhile\u001b[39;00m i\u001b[38;5;241m<\u001b[39mgreat:\n\u001b[0;32m     16\u001b[0m     \u001b[38;5;28;01mif\u001b[39;00m i\u001b[38;5;241m<\u001b[39msmall:\n\u001b[1;32m---> 17\u001b[0m         \u001b[43mres\u001b[49m\u001b[38;5;241;43m+\u001b[39;49m\u001b[38;5;241;43m=\u001b[39;49m\u001b[43ml1\u001b[49m\u001b[43m[\u001b[49m\u001b[43mi\u001b[49m\u001b[43m]\u001b[49m\u001b[38;5;241;43m+\u001b[39;49m\u001b[43ml2\u001b[49m\u001b[43m[\u001b[49m\u001b[43mi\u001b[49m\u001b[43m]\u001b[49m\n\u001b[0;32m     18\u001b[0m     \u001b[38;5;28;01melse\u001b[39;00m:\n\u001b[0;32m     19\u001b[0m         res\u001b[38;5;241m+\u001b[39m\u001b[38;5;241m=\u001b[39ml1[i]\n",
      "\u001b[1;31mTypeError\u001b[0m: can only concatenate str (not \"int\") to str"
     ]
    }
   ],
   "source": [
    "# WAPT sum the given 2 lists\n",
    "\n",
    "l1=[1,2,3,4,1]\n",
    "l2=[5,6,7,8]\n",
    "n1=len(l1)\n",
    "n2=len(l2)\n",
    "if n1>n2:\n",
    "    great=n1\n",
    "    small=n2\n",
    "else:\n",
    "    great=n2\n",
    "    small=n1\n",
    "res=''\n",
    "i=0\n",
    "while i<great:\n",
    "    if i<small:\n",
    "        res+=l1[i]+l2[i]\n",
    "    else:\n",
    "        res+=l1[i]\n",
    "    i+=1\n",
    "print(list(res))\n"
   ]
  },
  {
   "cell_type": "code",
   "execution_count": 42,
   "metadata": {},
   "outputs": [
    {
     "name": "stdout",
     "output_type": "stream",
     "text": [
      "[1, 2, 3, 4, 5, 6, 7, 8]\n"
     ]
    },
    {
     "ename": "TypeError",
     "evalue": "can't multiply sequence by non-int of type 'list'",
     "output_type": "error",
     "traceback": [
      "\u001b[1;31m---------------------------------------------------------------------------\u001b[0m",
      "\u001b[1;31mTypeError\u001b[0m                                 Traceback (most recent call last)",
      "Cell \u001b[1;32mIn[42], line 4\u001b[0m\n\u001b[0;32m      2\u001b[0m l2\u001b[38;5;241m=\u001b[39m[\u001b[38;5;241m5\u001b[39m,\u001b[38;5;241m6\u001b[39m,\u001b[38;5;241m7\u001b[39m,\u001b[38;5;241m8\u001b[39m]\n\u001b[0;32m      3\u001b[0m \u001b[38;5;28mprint\u001b[39m(l1\u001b[38;5;241m+\u001b[39ml2)\n\u001b[1;32m----> 4\u001b[0m \u001b[38;5;28mprint\u001b[39m(\u001b[43ml1\u001b[49m\u001b[38;5;241;43m*\u001b[39;49m\u001b[43ml2\u001b[49m)\n",
      "\u001b[1;31mTypeError\u001b[0m: can't multiply sequence by non-int of type 'list'"
     ]
    }
   ],
   "source": [
    "l1=[1,2,3,4]\n",
    "l2=[5,6,7,8]\n",
    "print(l1+l2)\n",
    "print(l1*l2)\n"
   ]
  },
  {
   "cell_type": "code",
   "execution_count": null,
   "metadata": {},
   "outputs": [],
   "source": [
    "l1=[1,2,3]\n",
    "l2=[1,2,5]\n",
    "i=0\n",
    "while i<len(l1):\n",
    "    if l1[i]!=l2[i]:\n",
    "        print(l1[])\n"
   ]
  },
  {
   "cell_type": "code",
   "execution_count": 30,
   "metadata": {},
   "outputs": [
    {
     "name": "stdout",
     "output_type": "stream",
     "text": [
      "given list: []\n",
      "empty list\n"
     ]
    }
   ],
   "source": [
    "l1=list(input())\n",
    "l2=[]\n",
    "print('given list:',l1)\n",
    "if l1==l2:\n",
    "    print('empty list')\n",
    "else:\n",
    "    print('not empty list')"
   ]
  },
  {
   "cell_type": "code",
   "execution_count": 41,
   "metadata": {},
   "outputs": [
    {
     "name": "stdout",
     "output_type": "stream",
     "text": [
      "[1, 2, 3, 4]\n"
     ]
    }
   ],
   "source": [
    "l1=[1,2,3,4]\n",
    "l3=l1.copy()\n",
    "print(l3)"
   ]
  }
 ],
 "metadata": {
  "kernelspec": {
   "display_name": "Python 3",
   "language": "python",
   "name": "python3"
  },
  "language_info": {
   "codemirror_mode": {
    "name": "ipython",
    "version": 3
   },
   "file_extension": ".py",
   "mimetype": "text/x-python",
   "name": "python",
   "nbconvert_exporter": "python",
   "pygments_lexer": "ipython3",
   "version": "3.11.4"
  }
 },
 "nbformat": 4,
 "nbformat_minor": 2
}
