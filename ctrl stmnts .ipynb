{
 "cells": [
  {
   "cell_type": "code",
   "execution_count": 1,
   "metadata": {},
   "outputs": [
    {
     "name": "stdout",
     "output_type": "stream",
     "text": [
      "D\n"
     ]
    }
   ],
   "source": [
    "#21. WAP to check whether a given value is present in between 45 to 125 and the number\n",
    "# should be divisible by 4 and 5 and even value. If satisfied, to display the ascii\n",
    "# character.\n",
    "\n",
    "num=int(input('Enter a number'))\n",
    "if(num>45 and num<125)and(num%4 and num%5 and num%2)==0:\n",
    "    res=chr(num)\n",
    "    print(res)\n"
   ]
  },
  {
   "cell_type": "code",
   "execution_count": 3,
   "metadata": {},
   "outputs": [
    {
     "name": "stdout",
     "output_type": "stream",
     "text": [
      "200\n"
     ]
    }
   ],
   "source": [
    "# 22. WAP to check whether a given value is present in between 25 to 100 and the number\n",
    "# should be divisible by 4 and 5. If satisfied, to display multiplication of given value\n",
    "# with 5.\n",
    "\n",
    "num=int(input('enter a number'))\n",
    "if (num>25 and num<100)and(num%5==0 and num%4==0):\n",
    "    print(num*5)\n",
    "\n"
   ]
  },
  {
   "cell_type": "code",
   "execution_count": 6,
   "metadata": {},
   "outputs": [
    {
     "name": "stdout",
     "output_type": "stream",
     "text": [
      "5.0\n"
     ]
    }
   ],
   "source": [
    "# 23. WAP to check whether a given number is an integer and odd number. If the\n",
    "# condition is satisfied, the integer is divisible by 5 and displays the result.\n",
    "\n",
    "num=int(input('enter a number'))\n",
    "if num>=0 or num<0 and num%2!=0:\n",
    "    print(num/5)"
   ]
  },
  {
   "cell_type": "code",
   "execution_count": 35,
   "metadata": {},
   "outputs": [
    {
     "name": "stdout",
     "output_type": "stream",
     "text": [
      "<class 'int'>\n",
      "62\n",
      "<class 'str'>\n",
      "2\n"
     ]
    }
   ],
   "source": [
    "\"\"\"DOUBT\"\"\"\n",
    "\n",
    "# 24. WAP to check whether a given value is an integer or not. If integer, the given value\n",
    "# is converted to string and displays the result.\n",
    "\n",
    "num=62\n",
    "print(type(num))\n",
    "if num>=0 or num<0:global\n",
    "    res=str(num)\n",
    "    print(res)\n",
    "    print(type(res))\n",
    "    print(res[1])\n"
   ]
  },
  {
   "cell_type": "code",
   "execution_count": 11,
   "metadata": {},
   "outputs": [
    {
     "name": "stdout",
     "output_type": "stream",
     "text": [
      "<class 'int'>\n",
      "123\n",
      "2\n"
     ]
    }
   ],
   "source": [
    "num=int(input())\n",
    "print(type(num))\n",
    "if num>=0 or num<0:\n",
    "    res=str(num)\n",
    "    print(res)\n",
    "    print(res[1])\n",
    "   "
   ]
  },
  {
   "cell_type": "code",
   "execution_count": 38,
   "metadata": {},
   "outputs": [
    {
     "name": "stdout",
     "output_type": "stream",
     "text": [
      "0\n"
     ]
    }
   ],
   "source": [
    "# 25. WAP to check whether a given value is less than 125 and greater than 60 or not. If\n",
    "# the condition is satisfied, take the name and extract the middle character and\n",
    "# display it.\n",
    "\n",
    "num=int(input('enter a value'))\n",
    "if num>60 and num<125:\n",
    "    res=str(num)\n",
    "    name=res[1]\n",
    "    print(name)"
   ]
  },
  {
   "cell_type": "code",
   "execution_count": 43,
   "metadata": {},
   "outputs": [
    {
     "name": "stdout",
     "output_type": "stream",
     "text": [
      "-246\n"
     ]
    }
   ],
   "source": [
    "# 26. WAP to check whether a given two integers are equal or not. If both are equal, to\n",
    "# perform addition and display the result.\n",
    "\n",
    "num1=int(input('enter num1 value'))\n",
    "num2=int(input('enter num2 value'))\n",
    "if num1==num2:\n",
    "    print(num1+num2)"
   ]
  },
  {
   "cell_type": "code",
   "execution_count": 47,
   "metadata": {},
   "outputs": [
    {
     "name": "stdout",
     "output_type": "stream",
     "text": [
      "151.29000000000002\n",
      "50.43000000000001\n"
     ]
    }
   ],
   "source": [
    "# 27. WAP to check whether two values are equal or not. if equal, to perform\n",
    "# multiplication of two numbers and that result is division by 3 and display the value. \n",
    "\n",
    "num1=float(input('enter 1st value'))\n",
    "num2=float(input('enter 2nd value'))\n",
    "if num1==num2:\n",
    "    res=num1*num2\n",
    "    print(res)\n",
    "    print(res/3)\n"
   ]
  },
  {
   "cell_type": "code",
   "execution_count": 51,
   "metadata": {},
   "outputs": [
    {
     "name": "stdout",
     "output_type": "stream",
     "text": [
      "{'A': 65}\n"
     ]
    }
   ],
   "source": [
    "# 28. WAP to check whether a character is in the alphabet or not. If the alphabet, store the\n",
    "# value inside the dict(key as a character and value as an ascii value).\n",
    "\n",
    "ch=input('enter a character')\n",
    "if ch>='a'or ch<='z' and ch>='A'or ch<='Z':\n",
    "    dict={ch:ord(ch)}\n",
    "    print(dict)\n"
   ]
  },
  {
   "cell_type": "code",
   "execution_count": 53,
   "metadata": {},
   "outputs": [
    {
     "name": "stdout",
     "output_type": "stream",
     "text": [
      "{'H': 72}\n"
     ]
    }
   ],
   "source": [
    "# 29. WAP to check whether a character is in the uppercase or not. If the uppercase, store\n",
    "# the value inside the dict(key as a character and value as an ascii value).\n",
    "\n",
    "ch=input('enter a character')\n",
    "if ch>='A'and ch<='Z':\n",
    "    dict={ch:ord(ch)}\n",
    "    print(dict)"
   ]
  },
  {
   "cell_type": "code",
   "execution_count": 66,
   "metadata": {},
   "outputs": [
    {
     "name": "stdout",
     "output_type": "stream",
     "text": [
      "g\n",
      "{'ch': 71} {'ch2': 103}\n"
     ]
    }
   ],
   "source": [
    "# 30. WAP to check whether a character is in the uppercase or not. If the uppercase,\n",
    "# convert to lowercase and store the value inside the dict(character as a key and ascii\n",
    "# # value as a value).\n",
    "\n",
    "ch=input('enter a character')\n",
    "if ch>='A'and ch<='Z':\n",
    "    ch2ascii=ord(ch)+32 \n",
    "    ch2=chr(ch2ascii)\n",
    "    print(ch2)\n",
    "    dict1={'ch':ord(ch)}\n",
    "    dict2={'ch2':ord(ch2)}\n",
    "    print(dict1,dict2)\n",
    "   \n",
    "\n"
   ]
  },
  {
   "cell_type": "code",
   "execution_count": 3,
   "metadata": {},
   "outputs": [
    {
     "name": "stdout",
     "output_type": "stream",
     "text": [
      "a is greatest value\n"
     ]
    }
   ],
   "source": [
    "# IF ELIF STATEMENTS\n",
    "\n",
    "\n",
    "# 31. WAP to find out the grestest of three numbers,and display the greatest number.\n",
    "\n",
    "a=int(input('enter a value'))\n",
    "b=int(input('enter b value'))\n",
    "c=int(input('enter c value'))\n",
    "if a>b and a>c:\n",
    "    print('a is greatest value')\n",
    "elif b>c and b>a:\n",
    "    print('b is the greatest value')\n",
    "else:\n",
    "    print('c is the greatest value')\n"
   ]
  },
  {
   "cell_type": "code",
   "execution_count": 8,
   "metadata": {},
   "outputs": [
    {
     "name": "stdout",
     "output_type": "stream",
     "text": [
      "Fizzbuzz\n"
     ]
    }
   ],
   "source": [
    "# 32.WAP to check whether the given number is divisible by 3 and 5,if it is divisible by print fizz,\n",
    "#if it is divisible by 5 print buzz,if divisible by both print fizzbuzz.\n",
    "\n",
    "num=int(input('enter a value'))\n",
    "if (num%5==0 and num%3==0):\n",
    "    print('Fizzbuzz')\n",
    "elif num%3==0:\n",
    "    print('Fizz')\n",
    "elif num%5==0:\n",
    "    print('Buzz')\n"
   ]
  },
  {
   "cell_type": "code",
   "execution_count": 10,
   "metadata": {},
   "outputs": [
    {
     "name": "stdout",
     "output_type": "stream",
     "text": [
      "num2 is greater than num1\n"
     ]
    }
   ],
   "source": [
    "# 33. WAP to find out the relationship between the given numbers,and display the relation.\n",
    "\n",
    "num1=int(input('enter a value'))\n",
    "num2=int(input('enter a value'))\n",
    "if num1==num2:\n",
    "    print('both are same')\n",
    "elif num1>num2:\n",
    "    print('num1 is greater than num2')\n",
    "else:\n",
    "    print('num2 is greater than num1')"
   ]
  },
  {
   "cell_type": "code",
   "execution_count": 14,
   "metadata": {},
   "outputs": [
    {
     "name": "stdout",
     "output_type": "stream",
     "text": [
      "morethan three digit\n"
     ]
    }
   ],
   "source": [
    "# 34. WAP to check the given number is onedigit or twodigit or 3digit or morethan 3digit ,if it is 1digit \n",
    "#print 'onedigit',if it is 2digit print'twodigit',if it is 3digit print'threedigit',if morethan 3digit \n",
    "#print'morethan threedigit'.\n",
    "\n",
    "num=int(input('enter a value'))\n",
    "if num<=9 and num>=-9:\n",
    "    print('one digit')\n",
    "elif num>=-99 and num<=99:\n",
    "    print('two digit')\n",
    "elif num>=-999 and num<=999:\n",
    "    print('three digit')\n",
    "else:\n",
    "    print('morethan three digit')"
   ]
  },
  {
   "cell_type": "code",
   "execution_count": 2,
   "metadata": {},
   "outputs": [
    {
     "name": "stdout",
     "output_type": "stream",
     "text": [
      "four\n"
     ]
    }
   ],
   "source": [
    "#35. WAP to accept the any number from 1-5 and display that number in wordform.\n",
    "\n",
    "num=int(input('enter a number'))\n",
    "if num==1:\n",
    "    print('one')\n",
    "elif num==2:\n",
    "    print('two')\n",
    "elif num==3:\n",
    "    print('three')\n",
    "elif num==4:\n",
    "    print('four')\n",
    "elif num==5:\n",
    "    print('five')"
   ]
  },
  {
   "cell_type": "code",
   "execution_count": 18,
   "metadata": {},
   "outputs": [
    {
     "name": "stdout",
     "output_type": "stream",
     "text": [
      "special symbol\n"
     ]
    }
   ],
   "source": [
    "# 36. WAP to check the given character is whether uppercase or lowercase or digit or special symbol,display  \n",
    "# the given character with their respective name.\n",
    "\n",
    "ch=input('enter a character')\n",
    "if ch>='a' and ch<='z':\n",
    "    print('lowercase')\n",
    "elif ch>='A' and num<='Z':\n",
    "    print('uppercase')\n",
    "elif ch>='0' and num<='9':\n",
    "    print('digit')\n",
    "else:\n",
    "    print('special symbol')"
   ]
  },
  {
   "cell_type": "code",
   "execution_count": null,
   "metadata": {},
   "outputs": [],
   "source": [
    "###     NESTED IF PROGRAMS      ###"
   ]
  },
  {
   "cell_type": "code",
   "execution_count": 3,
   "metadata": {},
   "outputs": [
    {
     "name": "stdout",
     "output_type": "stream",
     "text": [
      "-126 it is less than -5\n"
     ]
    }
   ],
   "source": [
    "# 37.WAP to check whether the given number is positive,negative or zero.\n",
    "#if positive check whether even or odd.\n",
    "#if negative check whether it is less than -5.\n",
    "#if it is zero print same number.\n",
    "\n",
    "num=int(input())\n",
    "if num>0 or num<0 or num==0:\n",
    "    if num>0:\n",
    "        if num%2==0:\n",
    "            print(num,'even')\n",
    "        else:\n",
    "            print(num,'odd')\n",
    "    elif num<0:\n",
    "        if num<-5:\n",
    "            print(num,'it is less than -5')\n",
    "        else:\n",
    "            print(num,'not less than -5')\n",
    "    else:\n",
    "        print(num)\n",
    "\n"
   ]
  },
  {
   "cell_type": "code",
   "execution_count": 16,
   "metadata": {},
   "outputs": [
    {
     "name": "stdout",
     "output_type": "stream",
     "text": [
      "^  is a symbol:\n",
      "94\n"
     ]
    }
   ],
   "source": [
    "# 38.WAP to check the given character is a alphabet or digit or symbol\n",
    "#if it is a alphabet check whether lowercase or uppercase\n",
    "#if it is a digit convert it into int and check whether even or odd\n",
    "#if it is a symbol print its ascii value\n",
    "\n",
    "ch=input()\n",
    "if (ch>='A'and ch<='Z')or(ch>='a'and ch<='z'):\n",
    "    if (ch>='A'and ch<='Z'):\n",
    "        print(ch,\"uppercase\")\n",
    "    else:\n",
    "        print(ch,\"loweracase\")\n",
    "elif (ch>='0'and ch<='9'):\n",
    "    integer=int(ch)   \n",
    "    if integer%2==0:\n",
    "        print(ch,'even')\n",
    "    else:\n",
    "        print(ch,'odd')\n",
    "else:\n",
    "    print(ch,' is a symbol:')\n",
    "    print(ord(ch))\n",
    "\n"
   ]
  },
  {
   "cell_type": "code",
   "execution_count": 38,
   "metadata": {},
   "outputs": [
    {
     "name": "stdout",
     "output_type": "stream",
     "text": [
      "4 lastdigit of the ascii value is lessthan 2nd lastdigit ascii value\n"
     ]
    }
   ],
   "source": [
    "# 39.WAP to check whether the given character is a uppercase or lowercase or digit\n",
    "#if uppercase check its ascii value whether even or odd\n",
    "   #if even convert uppercase into lowercase else print its ascii value\n",
    "# if lowercase check whether vowel or consonant\n",
    "# if it is a digit check whether the lastdigit of the ascii value is greater than or less than of \n",
    "# second lastdigit of the ascii value \n",
    "\n",
    "\n",
    "ch=input()\n",
    "if ch>='A'and ch<='Z':\n",
    "    ascii=ord(ch)\n",
    "    if ascii%2==0:\n",
    "        print(ascii,'EVEN')\n",
    "        res=ch.lower()\n",
    "        print(res)\n",
    "    else:\n",
    "        print(ascii,'ODD')\n",
    "elif ch>='a'and ch<='z':\n",
    "    if ch=='a'or ch=='e'or ch=='i'or ch=='o'or ch=='u':\n",
    "        print(ch,'VOWEL')\n",
    "    else:\n",
    "        print(ch,'CONSONANT')\n",
    "elif ch>='0' and ch<='9':\n",
    "    ascii=ord(ch)\n",
    "    lastdigit=ascii%10\n",
    "    secondlastdigit=(ascii//10)%10\n",
    "    if lastdigit>secondlastdigit:\n",
    "        print(ch,'lastdigit of the ascii value is greater than 2nd lastdigit ascii value')\n",
    "    else:\n",
    "        print(ch,'lastdigit of the ascii value is lessthan 2nd lastdigit ascii value')\n",
    "else:\n",
    "    print('Given Character is a symbol')\n"
   ]
  },
  {
   "cell_type": "code",
   "execution_count": 45,
   "metadata": {},
   "outputs": [
    {
     "name": "stdout",
     "output_type": "stream",
     "text": [
      "12321 1st char is == last char\n"
     ]
    }
   ],
   "source": [
    "# 40.WAP to check whether the length of the string is greaterthan or lessthan or equals to 5.\n",
    "# If greater check first character is greater than lastcharacter.If lessthan 5 check the first  \n",
    "# character is lessthan last character.If equals to 5 check first character is equals to last character\n",
    "\n",
    "str=input()\n",
    "if len(str)>5:\n",
    "    if str[0]>str[-1]:\n",
    "        print(str, '1st char is > last char')\n",
    "    else:\n",
    "        print(str, '1st char is not > last char')\n",
    "elif len(str)<5:\n",
    "    if str[0]<str[-1]:\n",
    "        print(str,'1st char is < last char')\n",
    "    else:\n",
    "        print(str, '1st char is not < last char')\n",
    "else:\n",
    "    if str[0]==str[-1]:\n",
    "        print(str,'1st char is == last char')\n",
    "    else:\n",
    "        print(str, '1st char is != last char')"
   ]
  },
  {
   "cell_type": "code",
   "execution_count": 4,
   "metadata": {},
   "outputs": [
    {
     "name": "stdout",
     "output_type": "stream",
     "text": [
      "9 729\n"
     ]
    }
   ],
   "source": [
    "# 41.WAP to check whether the given element is present in the list or not\n",
    "#if it is present print square of the element else print cube of the element\n",
    "\n",
    "l1=[1,2,3,26,3,23,0]\n",
    "element=int(input())\n",
    "if element in l1:\n",
    "    print(element,element**2)\n",
    "else:\n",
    "    print(element,element**3)"
   ]
  },
  {
   "cell_type": "code",
   "execution_count": 6,
   "metadata": {},
   "outputs": [
    {
     "name": "stdout",
     "output_type": "stream",
     "text": [
      "given character is invalid\n"
     ]
    }
   ],
   "source": [
    "# 42.WAP to check whether the given input alphabet is present in a collection or not.\n",
    "# if present check whether the alphabet is uppercase or lowercase.\n",
    "# if it is uppercase convert it into lowercase\n",
    "# if it is lowercase convert it into uppercase\n",
    "# if alphabet is not present in collection print invalid\n",
    "\n",
    "str='vineethkumarreddy'\n",
    "ch=input()\n",
    "if ch in str:\n",
    "    if ch>='A'and ch<='Z':\n",
    "        print(ch,ch.lower())\n",
    "    else:\n",
    "        print(ch,ch.upper())\n",
    "else:\n",
    "    print('given character is invalid')"
   ]
  },
  {
   "cell_type": "code",
   "execution_count": 12,
   "metadata": {},
   "outputs": [
    {
     "name": "stdout",
     "output_type": "stream",
     "text": [
      "vineeth v 7 iet\n"
     ]
    }
   ],
   "source": [
    "# 43.WAP to check whether the given input character is present in a given string collection or not\n",
    "# if it is present check whether the lenth of the string even or odd:\n",
    "# if even print all the even indexed elements of the given string using slicing\n",
    "# if odd print all the odd indexed elements of the given string using slicing\n",
    "# if character is not present in the string just print the string\n",
    "\n",
    "str=input('enter a collection')\n",
    "ch=input('enter a character')\n",
    "if ch in str:\n",
    "    if len(str)%2==0:\n",
    "        print(str,ch,len(str),str[::2])\n",
    "    else:\n",
    "        print(str,ch,len(str),str[1::2])\n",
    "else:\n",
    "    print(ch,str)   \n"
   ]
  },
  {
   "cell_type": "code",
   "execution_count": 19,
   "metadata": {},
   "outputs": [
    {
     "name": "stdout",
     "output_type": "stream",
     "text": [
      "3 is not alphabet\n"
     ]
    }
   ],
   "source": [
    "# 44.WAP to check whether the given character is alphabet or not\n",
    "# if alphabet check whether the character is uppercase or lowercase\n",
    "# if uppercase,check vowel or not\n",
    "  # if vowel,display the next character of the given character\n",
    "# if lowercase,convert to uppercase and display the character\n",
    "\n",
    "ch=input()\n",
    "if ch>='a'and ch<='z' or ch>='A'and ch<='Z':\n",
    "    if ch>='A'and ch<='Z':\n",
    "        if ch=='A'or ch=='E'and ch=='I'or ch=='O'or ch=='U':\n",
    "            nextascii=ord(ch)+1\n",
    "            nextcharacter=chr(nextascii)\n",
    "            print(ch,nextcharacter)\n",
    "        else:\n",
    "            print('It is not a vowel')\n",
    "    else:\n",
    "        print(ch,ch.upper()) \n",
    "else:\n",
    "    print(ch,'is not alphabet')\n"
   ]
  },
  {
   "cell_type": "code",
   "execution_count": 5,
   "metadata": {},
   "outputs": [
    {
     "name": "stdout",
     "output_type": "stream",
     "text": [
      "['1', ',', '2', ',', '3', ',', '4', ',', '5']\n"
     ]
    }
   ],
   "source": [
    "# 45.WAP to check whether the middle of the item present in the list is a string or not\n",
    "# if it is a string print list or else print the middle term\n",
    "\n",
    "l1=list(input([]))\n",
    "if len(l1)%2==0:\n",
    "    print('the length is even and there will be no middle term')\n",
    "else:\n",
    "    middle=len(l1)//2\n",
    "    middleterm=l1[middle]\n",
    "    if type(middleterm)==str:\n",
    "        print(l1)\n",
    "    else:\n",
    "        print(middleterm)\n"
   ]
  },
  {
   "cell_type": "code",
   "execution_count": 4,
   "metadata": {},
   "outputs": [
    {
     "name": "stdout",
     "output_type": "stream",
     "text": [
      "12321 is palindrome\n"
     ]
    }
   ],
   "source": [
    "# 46.WAP to check whether the given string is a palindrome or not.If palindrome print\n",
    "#is palindrome along with string ,otherwise print is not palindrome along with string\n",
    "\n",
    "str=input()\n",
    "if str[::1]==str[::-1]:\n",
    "    print(str,'is palindrome')\n",
    "else:\n",
    "    print(str,'is not palindrome')"
   ]
  }
 ],
 "metadata": {
  "kernelspec": {
   "display_name": "Python 3",
   "language": "python",
   "name": "python3"
  },
  "language_info": {
   "codemirror_mode": {
    "name": "ipython",
    "version": 3
   },
   "file_extension": ".py",
   "mimetype": "text/x-python",
   "name": "python",
   "nbconvert_exporter": "python",
   "pygments_lexer": "ipython3",
   "version": "3.11.4"
  }
 },
 "nbformat": 4,
 "nbformat_minor": 2
}
